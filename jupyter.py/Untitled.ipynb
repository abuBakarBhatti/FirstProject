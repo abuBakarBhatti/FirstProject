{
 "cells": [
  {
   "cell_type": "markdown",
   "id": "cf056cc3-7747-4be9-9666-6e22f9e5e6c8",
   "metadata": {
    "jp-MarkdownHeadingCollapsed": true,
    "tags": []
   },
   "source": [
    "# Data Science Learning with BABA AMMAAR\n",
    "### Hamza is the student of Baba G"
   ]
  },
  {
   "cell_type": "code",
   "execution_count": 1,
   "id": "f9fd706e-7b80-4f7e-9109-2db284f77529",
   "metadata": {},
   "outputs": [
    {
     "data": {
      "text/plain": [
       "8"
      ]
     },
     "execution_count": 1,
     "metadata": {},
     "output_type": "execute_result"
    }
   ],
   "source": [
    "a = 5+3\n",
    "a"
   ]
  },
  {
   "cell_type": "code",
   "execution_count": 2,
   "id": "e5c34925-240b-464b-9abb-ba2805d9a257",
   "metadata": {},
   "outputs": [
    {
     "data": {
      "text/plain": [
       "10"
      ]
     },
     "execution_count": 2,
     "metadata": {},
     "output_type": "execute_result"
    }
   ],
   "source": [
    "b= 7+3\n",
    "b"
   ]
  },
  {
   "cell_type": "code",
   "execution_count": 3,
   "id": "86281119-79e6-4242-b070-7e53aeebc0b7",
   "metadata": {},
   "outputs": [],
   "source": [
    "c = 9+9"
   ]
  },
  {
   "cell_type": "code",
   "execution_count": 4,
   "id": "f7c4e46d-8730-483c-9a0f-e5b74130b4e0",
   "metadata": {},
   "outputs": [
    {
     "data": {
      "text/plain": [
       "39"
      ]
     },
     "execution_count": 4,
     "metadata": {},
     "output_type": "execute_result"
    }
   ],
   "source": [
    "b= 7+32\n",
    "b"
   ]
  },
  {
   "cell_type": "markdown",
   "id": "d66dffb1-83fd-43d1-b3c5-7d8ac25e53ce",
   "metadata": {
    "tags": []
   },
   "source": [
    "# Going to Try Baba g ka Chilla "
   ]
  },
  {
   "cell_type": "code",
   "execution_count": 9,
   "id": "c1bbbe7e-12e8-4cf3-a2ec-681deb32948b",
   "metadata": {},
   "outputs": [
    {
     "data": {
      "text/plain": [
       "'chilla'"
      ]
     },
     "execution_count": 9,
     "metadata": {},
     "output_type": "execute_result"
    }
   ],
   "source": [
    "food = \"chilla\"\n",
    "food"
   ]
  },
  {
   "cell_type": "code",
   "execution_count": 5,
   "id": "d052a762-7a24-43e3-aafd-eeac8d905b2b",
   "metadata": {},
   "outputs": [],
   "source": [
    "a = 8+4"
   ]
  },
  {
   "cell_type": "code",
   "execution_count": 6,
   "id": "4dfa2267-0b09-43b8-a02d-ee569620b13a",
   "metadata": {},
   "outputs": [
    {
     "data": {
      "text/plain": [
       "12"
      ]
     },
     "execution_count": 6,
     "metadata": {},
     "output_type": "execute_result"
    }
   ],
   "source": [
    "a \n"
   ]
  },
  {
   "cell_type": "code",
   "execution_count": 7,
   "id": "67515327-3c69-464b-b2f9-7a043f4e3eb1",
   "metadata": {},
   "outputs": [],
   "source": [
    "food = \"Roti\""
   ]
  },
  {
   "cell_type": "code",
   "execution_count": 8,
   "id": "8ea4d1b4-77ea-45fb-a32b-a167e2bf471e",
   "metadata": {},
   "outputs": [
    {
     "name": "stdout",
     "output_type": "stream",
     "text": [
      "Roti\n"
     ]
    }
   ],
   "source": [
    "print(food)\n"
   ]
  },
  {
   "cell_type": "code",
   "execution_count": 14,
   "id": "ced7f8d3-08de-45d0-acd5-9cb5e8a94be8",
   "metadata": {},
   "outputs": [
    {
     "data": {
      "text/plain": [
       "['Roti', ' daal', ' chawal', ' chana']"
      ]
     },
     "execution_count": 14,
     "metadata": {},
     "output_type": "execute_result"
    }
   ],
   "source": [
    "bhatti = \"Roti, daal, chawal, chana\"\n",
    "bhatti.split(\",\")"
   ]
  },
  {
   "cell_type": "code",
   "execution_count": null,
   "id": "bdcadb44-b678-4217-a071-43d1a5b55945",
   "metadata": {},
   "outputs": [],
   "source": []
  }
 ],
 "metadata": {
  "kernelspec": {
   "display_name": "Python 3 (ipykernel)",
   "language": "python",
   "name": "python3"
  },
  "language_info": {
   "codemirror_mode": {
    "name": "ipython",
    "version": 3
   },
   "file_extension": ".py",
   "mimetype": "text/x-python",
   "name": "python",
   "nbconvert_exporter": "python",
   "pygments_lexer": "ipython3",
   "version": "3.9.7"
  }
 },
 "nbformat": 4,
 "nbformat_minor": 5
}
